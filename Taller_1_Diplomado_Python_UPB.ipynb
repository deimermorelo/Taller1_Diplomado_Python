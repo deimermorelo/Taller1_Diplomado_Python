{
 "cells": [
  {
   "cell_type": "markdown",
   "id": "956e0ae6",
   "metadata": {},
   "source": [
    "## Solucion al Taller 1\n",
    "\n",
    "### Diplomado Python Aplicado a la Ingenieria UPB\n",
    "\n",
    "* Autor: Deimer David Morelo Ospino\n",
    "* ID: 502217\n",
    "* Email: deimer.morelo@upb.edu.co\n",
    "\n",
    "#### Procedimiento utilizado para generar el algortimo\n",
    "Teniendo en cuenta las instrucciones brindadas en la descripcion del taller, lo primero que hacemos es solicitar al usuario que ingrese el nombre del artista (este se utilizara para hacer alusion al mismo al final de la cancion), dicho nombre se almacenara en una variable de tipo String. Posteriormente creamos 8 listas, las cuales almacenaran una serie de palabras que son fundamentales a la hora de generar un cancion de reggaeton; y en una variable que llamaremos \"cancion\" seleccionaremos de manera aleatoria elementos de las listas previamente mencionadas. \n",
    "\n",
    "Una vez hecho lo anterior, creamos una variable llamada \"frase\" y luego utilizando un ciclo \"for\" construimos la letra de la cancion, la cual sera presentada empleando la funcion \"print\" que contendra como parametro a la ya aludida variable \"frase\". \n",
    "\n",
    "\n"
   ]
  },
  {
   "cell_type": "code",
   "execution_count": 8,
   "id": "7483fa4b",
   "metadata": {},
   "outputs": [
    {
     "name": "stdout",
     "output_type": "stream",
     "text": [
      "Por favor ingrese el nombre del artista: Colby \n",
      "Bebé voy a encendelte lento hasta el amanecel feis to feis con la autoria de Colby  el king of kings \n"
     ]
    }
   ],
   "source": [
    "#Libreria para generar numeros enteros aleatorio\n",
    "import random \n",
    "\n",
    "#Se solicita al usuario el nombre del artista y se almacena en la variable \"artista\"\n",
    "artista = input(\"Por favor ingrese el nombre del artista: \")\n",
    "\n",
    "#Se crean las listas que contienen las palabras claves para generar un cancion de reggaeton\n",
    "lista=[\"Mami\", \"Bebé\", \"Princess\", \"Mami\"]\n",
    "lista2=[\"yo quiero\", \"yo puedo\", \"yo vengo a\", \"voy a\"]\n",
    "lista3=[\"encendelte\", \"amalte\", \"ligal\", \"jugal\"]\n",
    "lista4=[\"suave\", \"lento\", \"rápido\", \"fuelte\"]\n",
    "lista5=[\"hasta que salga el sol\", \"toa la noche\", \"hasta el amanecel\", \"to el día\"]\n",
    "lista6=[\"sin anestesia\", \"sin complomiso\", \"feis to feis\", \"sin miedo\"]\n",
    "lista7=[\"te lo dice\", \"una produccion de\", \"con la autoria de\", \"con la lirica de\"]\n",
    "lista8=[\"el mas ganstel\", \"el que ploduce pol toneladas\", \"el dueño del sistema\", \"el king of kings\"]\n",
    "\n",
    "#Se selecciona aleatoriamente con la funcion \"randit\" un elemento de cada una de las listas anteriores\n",
    "cancion = [lista[random.randint(0,3)], lista2[random.randint(0,3)], lista3[random.randint(0,3)], lista4[random.randint(0,3)], \n",
    "        lista5[random.randint(0,3)],lista6[random.randint(0,3)], lista7[random.randint(0,3)], artista, lista8[random.randint(0,3)] ]\n",
    "frase = \"\"\n",
    "\n",
    "#Se construye la cancion de reggaeton utilizando un ciclo \"for\"\n",
    "for palabra in cancion:\n",
    "    frase += palabra + \" \"\n",
    "\n",
    "#Mostramos la cancion por consola \n",
    "print(frase)"
   ]
  },
  {
   "cell_type": "code",
   "execution_count": null,
   "id": "09c21475",
   "metadata": {},
   "outputs": [],
   "source": []
  },
  {
   "cell_type": "code",
   "execution_count": null,
   "id": "e739485c",
   "metadata": {},
   "outputs": [],
   "source": []
  }
 ],
 "metadata": {
  "kernelspec": {
   "display_name": "Python 3 (ipykernel)",
   "language": "python",
   "name": "python3"
  },
  "language_info": {
   "codemirror_mode": {
    "name": "ipython",
    "version": 3
   },
   "file_extension": ".py",
   "mimetype": "text/x-python",
   "name": "python",
   "nbconvert_exporter": "python",
   "pygments_lexer": "ipython3",
   "version": "3.9.7"
  }
 },
 "nbformat": 4,
 "nbformat_minor": 5
}
